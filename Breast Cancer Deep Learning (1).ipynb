{
 "cells": [
  {
   "cell_type": "code",
   "execution_count": null,
   "id": "a16a80c3-bdd4-475a-831b-6c0a8a46e1f4",
   "metadata": {
    "tags": []
   },
   "outputs": [],
   "source": [
    "pip install intel-tensorflow"
   ]
  },
  {
   "cell_type": "code",
   "execution_count": null,
   "id": "ceeb445a-874f-45e7-809b-c4d8a0ec21e7",
   "metadata": {},
   "outputs": [],
   "source": [
    "import numpy as np\n",
    "import pandas as pd\n",
    "import matplotlib.pyplot as plt\n",
    "from sklearnex import patch_sklearn\n",
    "patch_sklearn()\n",
    "import sklearn.datasets\n",
    "from sklearn.model_selection import train_test_split"
   ]
  },
  {
   "cell_type": "code",
   "execution_count": null,
   "id": "44d8f20a-c14d-4523-9a40-8cfcbca43764",
   "metadata": {},
   "outputs": [],
   "source": [
    "# loading the data from sklearn\n",
    "from sklearnex import patch_sklearn\n",
    "patch_sklearn()\n",
    "breast_cancer_dataset = sklearn.datasets.load_breast_cancer()"
   ]
  },
  {
   "cell_type": "code",
   "execution_count": null,
   "id": "71c87d33-abf5-40ef-99d2-8afdabb13792",
   "metadata": {},
   "outputs": [],
   "source": [
    "print(breast_cancer_dataset)"
   ]
  },
  {
   "cell_type": "code",
   "execution_count": null,
   "id": "a365c741-d65f-475a-a3c0-30d40b65d62f",
   "metadata": {},
   "outputs": [],
   "source": [
    "# loading the data to a data frame\n",
    "data_frame = pd.DataFrame(breast_cancer_dataset.data, columns = breast_cancer_dataset.feature_names)\n",
    "print(data_frame)"
   ]
  },
  {
   "cell_type": "code",
   "execution_count": null,
   "id": "e10cca74-e399-44f3-85ef-95dd0f8121aa",
   "metadata": {},
   "outputs": [],
   "source": [
    "# print the first 5 rows of the dataframe\n",
    "data_frame.head()"
   ]
  },
  {
   "cell_type": "code",
   "execution_count": null,
   "id": "e814e963-d89f-4790-bc33-a3c0ec418f53",
   "metadata": {},
   "outputs": [],
   "source": [
    "# adding the 'target' column to the data frame\n",
    "data_frame['label'] = breast_cancer_dataset.target"
   ]
  },
  {
   "cell_type": "code",
   "execution_count": null,
   "id": "c31ce743-8c1e-4093-a7f1-28beef24038d",
   "metadata": {},
   "outputs": [],
   "source": [
    "# print last 5 rows of the dataframe\n",
    "data_frame.tail()"
   ]
  },
  {
   "cell_type": "code",
   "execution_count": null,
   "id": "c78e5165-7989-4547-abb7-1b7c4c98fda9",
   "metadata": {},
   "outputs": [],
   "source": [
    "# number of rows and columns in the dataset\n",
    "data_frame.shape"
   ]
  },
  {
   "cell_type": "code",
   "execution_count": null,
   "id": "32be33bb-05cf-4822-ae3d-2deb7024effd",
   "metadata": {},
   "outputs": [],
   "source": [
    "# getting some information about the data\n",
    "data_frame.info()"
   ]
  },
  {
   "cell_type": "code",
   "execution_count": null,
   "id": "c1bb02ab-c705-4ddd-97b3-3d1234440fe5",
   "metadata": {},
   "outputs": [],
   "source": [
    "# checking for missing values\n",
    "data_frame.isnull().sum()"
   ]
  },
  {
   "cell_type": "code",
   "execution_count": null,
   "id": "3d24506d-18a4-48f9-ba26-77f81edfb7ec",
   "metadata": {},
   "outputs": [],
   "source": [
    "# statistical measures about the data\n",
    "data_frame.describe()"
   ]
  },
  {
   "cell_type": "code",
   "execution_count": null,
   "id": "9ab58b7e-337c-41cf-8c9f-6e236e7ef9fd",
   "metadata": {},
   "outputs": [],
   "source": [
    "# checking the distribution of Target Varibale\n",
    "data_frame['label'].value_counts()"
   ]
  },
  {
   "cell_type": "markdown",
   "id": "f6dba7b9-5808-446f-93bb-e5347b896782",
   "metadata": {},
   "source": [
    "1 --> Benign\n",
    "\n",
    "0 --> Malignant"
   ]
  },
  {
   "cell_type": "code",
   "execution_count": null,
   "id": "105d716a-ae3b-4fdb-a646-508a298686a4",
   "metadata": {},
   "outputs": [],
   "source": [
    "data_frame.groupby('label').mean()"
   ]
  },
  {
   "cell_type": "markdown",
   "id": "b399d289-86f6-406a-9f56-2df206df2abf",
   "metadata": {},
   "source": [
    "Separating the features and target"
   ]
  },
  {
   "cell_type": "code",
   "execution_count": null,
   "id": "4825384e-b74d-46d1-ad59-645ba14141a5",
   "metadata": {},
   "outputs": [],
   "source": [
    "X = data_frame.drop(columns='label', axis=1)\n",
    "Y = data_frame['label']"
   ]
  },
  {
   "cell_type": "code",
   "execution_count": null,
   "id": "7721393c-091b-4122-b0ef-7d16c8d70bbd",
   "metadata": {},
   "outputs": [],
   "source": [
    "print(X)"
   ]
  },
  {
   "cell_type": "code",
   "execution_count": null,
   "id": "5ef345bc-5cea-479f-b04d-797bc7cfb5f7",
   "metadata": {},
   "outputs": [],
   "source": [
    "print(Y)"
   ]
  },
  {
   "cell_type": "markdown",
   "id": "6dc29cbd-b613-4075-9968-77a79c615b37",
   "metadata": {},
   "source": [
    "Splitting the data into training data & Testing data"
   ]
  },
  {
   "cell_type": "code",
   "execution_count": null,
   "id": "210eddeb-f6aa-410c-81c5-a2e0e28ee45b",
   "metadata": {},
   "outputs": [],
   "source": [
    "X_train, X_test, Y_train, Y_test = train_test_split(X, Y, test_size=0.2, random_state=2)"
   ]
  },
  {
   "cell_type": "code",
   "execution_count": null,
   "id": "117f405a-0f37-43a9-ad78-906b5d22dbbf",
   "metadata": {},
   "outputs": [],
   "source": [
    "print(X.shape, X_train.shape, X_test.shape)"
   ]
  },
  {
   "cell_type": "markdown",
   "id": "379affc2-6dbd-40b7-b2a8-cd24c29b12f1",
   "metadata": {},
   "source": [
    "Standardize the data"
   ]
  },
  {
   "cell_type": "code",
   "execution_count": null,
   "id": "1ddd53fa-439f-4434-bc6e-2df161b9d69b",
   "metadata": {},
   "outputs": [],
   "source": [
    "from sklearnex import patch_sklearn\n",
    "patch_sklearn()\n",
    "from sklearn.preprocessing import StandardScaler"
   ]
  },
  {
   "cell_type": "code",
   "execution_count": null,
   "id": "572b222f-386e-4b50-88b3-1915010ab359",
   "metadata": {},
   "outputs": [],
   "source": [
    "scaler = StandardScaler()\n",
    "\n",
    "X_train_std = scaler.fit_transform(X_train)\n",
    "\n",
    "X_test_std = scaler.transform(X_test)"
   ]
  },
  {
   "cell_type": "markdown",
   "id": "ffdd8e24-8ca4-4c36-ab5d-258edac8946c",
   "metadata": {},
   "source": [
    "**Building the Neural Network**"
   ]
  },
  {
   "cell_type": "code",
   "execution_count": null,
   "id": "1900d600-635f-41bd-b0dd-f346aba2b56d",
   "metadata": {},
   "outputs": [],
   "source": [
    "# importing tensorflow and the oneDNN backend for Keras\n",
    "import os\n",
    "os.environ['TF_CPP_MIN_LOG_LEVEL'] = '2'  # set the logging level to ERROR\n",
    "import tensorflow as tf \n",
    "tf.random.set_seed(3)\n",
    "from tensorflow.python.keras import backend as K\n",
    "from tensorflow.keras.layers.experimental.preprocessing import Rescaling"
   ]
  },
  {
   "cell_type": "code",
   "execution_count": null,
   "id": "e88b83f8-82ad-41b6-84a1-06a71eec8c47",
   "metadata": {},
   "outputs": [],
   "source": [
    "# configure the oneDNN backend\n",
    "K.set_image_data_format('channels_last')\n",
    "K.set_floatx('float32')\n",
    "K.set_session(tf.compat.v1.Session(config=tf.compat.v1.ConfigProto(\n",
    "    intra_op_parallelism_threads=0,\n",
    "    inter_op_parallelism_threads=0,\n",
    "    allow_soft_placement=True,\n",
    "    device_count={'CPU': 1})))"
   ]
  },
  {
   "cell_type": "code",
   "execution_count": null,
   "id": "7207c15f-73b8-4cca-8948-e636dfe2dbab",
   "metadata": {},
   "outputs": [],
   "source": [
    "# define the model using the oneDNN backend\n",
    "model = tf.keras.Sequential([\n",
    "    Rescaling(1./255, input_shape=(30,)),\n",
    "    tf.keras.layers.Dense(20, activation='relu'),\n",
    "    tf.keras.layers.Dense(2, activation='sigmoid')\n",
    "])\n",
    "model.built = True"
   ]
  },
  {
   "cell_type": "code",
   "execution_count": null,
   "id": "40ac6eca-bcf3-4547-9e46-125944e12b1d",
   "metadata": {},
   "outputs": [],
   "source": [
    "# compiling the Neural Network\n",
    "\n",
    "model.compile(optimizer='adam',\n",
    "              loss='sparse_categorical_crossentropy',\n",
    "              metrics=['accuracy'])"
   ]
  },
  {
   "cell_type": "code",
   "execution_count": null,
   "id": "a2b62a77-c20e-4148-b20a-88a3f7d90cb5",
   "metadata": {},
   "outputs": [],
   "source": [
    "# training the Meural Network\n",
    "\n",
    "history = model.fit(X_train_std, Y_train, validation_split=0.1, epochs=100)"
   ]
  },
  {
   "cell_type": "code",
   "execution_count": null,
   "id": "65eeb5b4-b8a1-46d0-af35-91045482c394",
   "metadata": {},
   "outputs": [],
   "source": [
    "plt.plot(history.history['accuracy'])\n",
    "plt.plot(history.history['val_accuracy'])\n",
    "plt.title('model accuracy')\n",
    "plt.ylabel('accuracy')\n",
    "plt.xlabel('epoch')\n",
    "plt.legend(['training data', 'validation data'], loc = 'lower right')"
   ]
  },
  {
   "cell_type": "code",
   "execution_count": null,
   "id": "920478f5-d67c-4ade-9ff0-ad12ea963aa9",
   "metadata": {},
   "outputs": [],
   "source": [
    "plt.plot(history.history['loss'])\n",
    "plt.plot(history.history['val_loss'])\n",
    "\n",
    "plt.title('model loss')\n",
    "plt.ylabel('loss')\n",
    "plt.xlabel('epoch')\n",
    "\n",
    "plt.legend(['training data', 'validation data'], loc = 'upper right')"
   ]
  },
  {
   "cell_type": "code",
   "execution_count": null,
   "id": "01f1c68a-cca6-42f5-9952-7e9af7225d03",
   "metadata": {},
   "outputs": [],
   "source": [
    "loss, accuracy = model.evaluate(X_test_std, Y_test)\n",
    "print(accuracy)"
   ]
  },
  {
   "cell_type": "code",
   "execution_count": null,
   "id": "f8a94f14-13f5-4e0c-b630-4a254117a08b",
   "metadata": {},
   "outputs": [],
   "source": [
    "print(X_test_std.shape)\n",
    "print(X_test_std[0])"
   ]
  },
  {
   "cell_type": "code",
   "execution_count": null,
   "id": "ec8b37eb-53a5-45af-9b5f-63cb0d9e5189",
   "metadata": {},
   "outputs": [],
   "source": [
    "Y_pred = model.predict(X_test_std)"
   ]
  },
  {
   "cell_type": "code",
   "execution_count": null,
   "id": "063e046b-4a2b-421b-b3f5-c4940a17bdbd",
   "metadata": {},
   "outputs": [],
   "source": [
    "print(Y_pred.shape)\n",
    "print(Y_pred[0])"
   ]
  },
  {
   "cell_type": "code",
   "execution_count": null,
   "id": "a0006b32-ad4f-4859-a638-510e59d6dd4b",
   "metadata": {},
   "outputs": [],
   "source": [
    "print(X_test_std)"
   ]
  },
  {
   "cell_type": "code",
   "execution_count": null,
   "id": "c09f5441-e403-4b56-8b07-10175f2c8cc5",
   "metadata": {},
   "outputs": [],
   "source": [
    "print(Y_pred)"
   ]
  },
  {
   "cell_type": "code",
   "execution_count": null,
   "id": "bb9be3d9-9d54-4fd1-8ad8-c89517956caa",
   "metadata": {},
   "outputs": [],
   "source": [
    "#  argmax function\n",
    "\n",
    "my_list = [0.25, 0.56]\n",
    "\n",
    "index_of_max_value = np.argmax(my_list)\n",
    "print(my_list)\n",
    "print(index_of_max_value)"
   ]
  },
  {
   "cell_type": "code",
   "execution_count": null,
   "id": "cd89e182-baa3-4f85-b631-044836fc55c5",
   "metadata": {},
   "outputs": [],
   "source": [
    "# converting the prediction probability to class labels\n",
    "\n",
    "Y_pred_labels = [np.argmax(i) for i in Y_pred]\n",
    "print(Y_pred_labels)"
   ]
  },
  {
   "cell_type": "markdown",
   "id": "f6f80aee-861d-44df-a9c2-72755d11cf74",
   "metadata": {},
   "source": [
    "Building the predictive system"
   ]
  },
  {
   "cell_type": "code",
   "execution_count": null,
   "id": "3600eedf-4ad8-46b9-ba71-394ae2f2200d",
   "metadata": {},
   "outputs": [],
   "source": [
    "input_data = (11.76,21.6,74.72,427.9,0.08637,0.04966,0.01657,0.01115,0.1495,0.05888,0.4062,1.21,2.635,28.47,0.005857,0.009758,0.01168,0.007445,0.02406,0.001769,12.98,25.72,82.98,516.5,0.1085,0.08615,0.05523,0.03715,0.2433,0.06563)\n",
    "\n",
    "# change the input_data to a numpy array\n",
    "input_data_as_numpy_array = np.asarray(input_data)\n",
    "\n",
    "# reshape the numpy array as we are predicting for one data point\n",
    "input_data_reshaped = input_data_as_numpy_array.reshape(1,-1)\n",
    "\n",
    "# standardizing the input data\n",
    "input_data_std = scaler.transform(input_data_reshaped)\n",
    "\n",
    "prediction = model.predict(input_data_std)\n",
    "print(prediction)\n",
    "\n",
    "prediction_label = [np.argmax(prediction)]\n",
    "print(prediction_label)\n",
    "print(prediction_label[0])\n",
    "if(prediction_label[0] == 0):\n",
    "  print('The tumor is Malignant')\n",
    "\n",
    "else:\n",
    "  print('The tumor is Benign')"
   ]
  },
  {
   "cell_type": "code",
   "execution_count": null,
   "id": "938fa7f2-55d5-417d-9c2d-492132391720",
   "metadata": {},
   "outputs": [],
   "source": [
    "import pickle\n",
    "import joblib\n"
   ]
  },
  {
   "cell_type": "code",
   "execution_count": null,
   "id": "3c326a50-3de3-44d1-abf3-ce60ba4c88cb",
   "metadata": {},
   "outputs": [],
   "source": [
    "#import bz2\n",
    "#file = bz2.BZ2File('model2.pkl.h5', 'wb')\n",
    "#pickle.dump(model, file)\n",
    "#file.close()\n",
    "joblib.dump(model, 'modeljob.pkl')\n"
   ]
  },
  {
   "cell_type": "code",
   "execution_count": null,
   "id": "4c11c8fe-7e8d-4ae4-aff8-5b5210405ae6",
   "metadata": {},
   "outputs": [],
   "source": [
    "model = joblib.load('modeljob.pkl')"
   ]
  },
  {
   "cell_type": "code",
   "execution_count": null,
   "id": "6f74d8c2-1316-4729-8fb4-1ec5db2ad70e",
   "metadata": {},
   "outputs": [],
   "source": [
    "import pickle, bz2\n",
    "from flask import Flask, render_template, request"
   ]
  },
  {
   "cell_type": "code",
   "execution_count": null,
   "id": "a83c0dca-fdea-4940-82d1-dff325f3bfa2",
   "metadata": {},
   "outputs": [],
   "source": [
    "# Load the trained model\n",
    "# with open('model1.pkl', 'rb') as f:\n",
    "#     model = pickle.load(f)\n",
    "\n",
    "#model = bz2.BZ2File('model1.pkl', 'rb')\n",
    "\n",
    "# Initialize the Flask application\n",
    "app = Flask(__name__)\n",
    "\n",
    "# Define the route for the home page\n",
    "@app.route('/')\n",
    "def home():\n",
    "    return render_template('home.html')\n",
    "\n",
    "# Define the route for the prediction page\n",
    "@app.route('/predict', methods=['POST'])\n",
    "def predict():\n",
    "    # Get the input values from the HTML form\n",
    "    input_features = [float(x) for x in request.form.values()]\n",
    "\n",
    "    # Make a prediction using the loaded model\n",
    "    prediction = model.predict([input_features])[0]\n",
    "\n",
    "    # Determine the output message based on the prediction\n",
    "    if prediction == 0:\n",
    "        output = 'Benign'\n",
    "    else:\n",
    "        output = 'Malignant'\n",
    "\n",
    "    # Render the result template with the prediction\n",
    "    return render_template('result.html', prediction=output)\n",
    "\n",
    "# Run the Flask application\n",
    "if __name__ == '__main__':\n",
    "    app.run(debug=True, port=3004)\n"
   ]
  },
  {
   "cell_type": "code",
   "execution_count": null,
   "id": "68e508b8-620d-4f2a-80ca-1fb7af2370c1",
   "metadata": {},
   "outputs": [],
   "source": [
    "# Initialize the Flask application\n",
    "app = Flask(__name__)"
   ]
  },
  {
   "cell_type": "code",
   "execution_count": null,
   "id": "599824ad-e839-4a16-a939-dd300982ed9a",
   "metadata": {},
   "outputs": [],
   "source": [
    "# Define the route for the home page\n",
    "@app.route('/')\n",
    "def home():\n",
    "    return render_template('home.html')"
   ]
  },
  {
   "cell_type": "code",
   "execution_count": null,
   "id": "96150b3e-56fc-41f6-b1fc-f831e3b66254",
   "metadata": {},
   "outputs": [],
   "source": [
    "# Define the route for the prediction page\n",
    "@app.route('/predict', methods=['POST'])\n",
    "def predict():\n",
    "    # Get the input values from the HTML form\n",
    "    input_features = [float(x) for x in request.form.values()]\n",
    "\n",
    "    # Make a prediction using the loaded model\n",
    "    prediction = model.predict([input_features])[0]\n",
    "\n",
    "    # Determine the output message based on the prediction\n",
    "    if prediction == 0:\n",
    "        output = 'Benign'\n",
    "    else:\n",
    "        output = 'Malignant'\n",
    "\n",
    "    # Render the result template with the prediction\n",
    "    return render_template('result.html', prediction=output)"
   ]
  },
  {
   "cell_type": "code",
   "execution_count": null,
   "id": "e70256a4-8862-44a6-9504-91f4c8ff3bae",
   "metadata": {},
   "outputs": [],
   "source": [
    "# Run the Flask application\n",
    "if __name__ == '__main__':\n",
    "    app.run(debug=True, port=3004)"
   ]
  },
  {
   "cell_type": "code",
   "execution_count": null,
   "id": "eb3f7439-197c-45a8-91ec-edfbed798346",
   "metadata": {},
   "outputs": [],
   "source": []
  },
  {
   "cell_type": "code",
   "execution_count": null,
   "id": "ee4d8e67-a461-4a2b-8baa-31bf3005dc02",
   "metadata": {},
   "outputs": [],
   "source": []
  }
 ],
 "metadata": {
  "kernelspec": {
   "display_name": "Python 3 (Intel® oneAPI 2023.0)",
   "language": "python",
   "name": "c009-intel_distribution_of_python_3_oneapi-beta05-python"
  },
  "language_info": {
   "codemirror_mode": {
    "name": "ipython",
    "version": 3
   },
   "file_extension": ".py",
   "mimetype": "text/x-python",
   "name": "python",
   "nbconvert_exporter": "python",
   "pygments_lexer": "ipython3",
   "version": "3.9.15"
  },
  "toc-showcode": false
 },
 "nbformat": 4,
 "nbformat_minor": 5
}
